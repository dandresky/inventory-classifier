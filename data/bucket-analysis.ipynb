{
 "cells": [
  {
   "cell_type": "markdown",
   "metadata": {},
   "source": [
    "### Introduction\n",
    "\n",
    "This notebook was created to look at the metadata of the Amazon S3 bucket containing all of the images and json files and get some statistics for the data."
   ]
  },
  {
   "cell_type": "code",
   "execution_count": 1,
   "metadata": {},
   "outputs": [],
   "source": [
    "import pandas as pd"
   ]
  },
  {
   "cell_type": "code",
   "execution_count": 2,
   "metadata": {},
   "outputs": [],
   "source": [
    "df_raw = pd.read_json('bucket-contents.json')"
   ]
  },
  {
   "cell_type": "code",
   "execution_count": 3,
   "metadata": {},
   "outputs": [
    {
     "data": {
      "text/html": [
       "<div>\n",
       "<style scoped>\n",
       "    .dataframe tbody tr th:only-of-type {\n",
       "        vertical-align: middle;\n",
       "    }\n",
       "\n",
       "    .dataframe tbody tr th {\n",
       "        vertical-align: top;\n",
       "    }\n",
       "\n",
       "    .dataframe thead th {\n",
       "        text-align: right;\n",
       "    }\n",
       "</style>\n",
       "<table border=\"1\" class=\"dataframe\">\n",
       "  <thead>\n",
       "    <tr style=\"text-align: right;\">\n",
       "      <th></th>\n",
       "      <th>Key</th>\n",
       "      <th>Size</th>\n",
       "    </tr>\n",
       "  </thead>\n",
       "  <tbody>\n",
       "    <tr>\n",
       "      <th>1072863</th>\n",
       "      <td>metadata/99995.json</td>\n",
       "      <td>3740</td>\n",
       "    </tr>\n",
       "    <tr>\n",
       "      <th>1072864</th>\n",
       "      <td>metadata/99996.json</td>\n",
       "      <td>864</td>\n",
       "    </tr>\n",
       "    <tr>\n",
       "      <th>1072865</th>\n",
       "      <td>metadata/99997.json</td>\n",
       "      <td>2132</td>\n",
       "    </tr>\n",
       "    <tr>\n",
       "      <th>1072866</th>\n",
       "      <td>metadata/99998.json</td>\n",
       "      <td>2770</td>\n",
       "    </tr>\n",
       "    <tr>\n",
       "      <th>1072867</th>\n",
       "      <td>metadata/99999.json</td>\n",
       "      <td>1658</td>\n",
       "    </tr>\n",
       "  </tbody>\n",
       "</table>\n",
       "</div>"
      ],
      "text/plain": [
       "                         Key  Size\n",
       "1072863  metadata/99995.json  3740\n",
       "1072864  metadata/99996.json   864\n",
       "1072865  metadata/99997.json  2132\n",
       "1072866  metadata/99998.json  2770\n",
       "1072867  metadata/99999.json  1658"
      ]
     },
     "execution_count": 3,
     "metadata": {},
     "output_type": "execute_result"
    }
   ],
   "source": [
    "df_raw.tail()"
   ]
  },
  {
   "cell_type": "markdown",
   "metadata": {},
   "source": [
    "The total size of all files is approximately 31.5GB  \n",
    "The mean size of each file is approximately 29.4kB"
   ]
  },
  {
   "cell_type": "code",
   "execution_count": 4,
   "metadata": {},
   "outputs": [
    {
     "data": {
      "text/plain": [
       "31564792008"
      ]
     },
     "execution_count": 4,
     "metadata": {},
     "output_type": "execute_result"
    }
   ],
   "source": [
    "df_raw.Size.sum()"
   ]
  },
  {
   "cell_type": "code",
   "execution_count": 5,
   "metadata": {},
   "outputs": [
    {
     "data": {
      "text/html": [
       "<div>\n",
       "<style scoped>\n",
       "    .dataframe tbody tr th:only-of-type {\n",
       "        vertical-align: middle;\n",
       "    }\n",
       "\n",
       "    .dataframe tbody tr th {\n",
       "        vertical-align: top;\n",
       "    }\n",
       "\n",
       "    .dataframe thead th {\n",
       "        text-align: right;\n",
       "    }\n",
       "</style>\n",
       "<table border=\"1\" class=\"dataframe\">\n",
       "  <thead>\n",
       "    <tr style=\"text-align: right;\">\n",
       "      <th></th>\n",
       "      <th>Size</th>\n",
       "    </tr>\n",
       "  </thead>\n",
       "  <tbody>\n",
       "    <tr>\n",
       "      <th>count</th>\n",
       "      <td>1.072868e+06</td>\n",
       "    </tr>\n",
       "    <tr>\n",
       "      <th>mean</th>\n",
       "      <td>2.942095e+04</td>\n",
       "    </tr>\n",
       "    <tr>\n",
       "      <th>std</th>\n",
       "      <td>3.468691e+04</td>\n",
       "    </tr>\n",
       "    <tr>\n",
       "      <th>min</th>\n",
       "      <td>5.600000e+01</td>\n",
       "    </tr>\n",
       "    <tr>\n",
       "      <th>25%</th>\n",
       "      <td>1.849000e+03</td>\n",
       "    </tr>\n",
       "    <tr>\n",
       "      <th>50%</th>\n",
       "      <td>1.336250e+04</td>\n",
       "    </tr>\n",
       "    <tr>\n",
       "      <th>75%</th>\n",
       "      <td>4.857200e+04</td>\n",
       "    </tr>\n",
       "    <tr>\n",
       "      <th>max</th>\n",
       "      <td>3.584380e+05</td>\n",
       "    </tr>\n",
       "  </tbody>\n",
       "</table>\n",
       "</div>"
      ],
      "text/plain": [
       "               Size\n",
       "count  1.072868e+06\n",
       "mean   2.942095e+04\n",
       "std    3.468691e+04\n",
       "min    5.600000e+01\n",
       "25%    1.849000e+03\n",
       "50%    1.336250e+04\n",
       "75%    4.857200e+04\n",
       "max    3.584380e+05"
      ]
     },
     "execution_count": 5,
     "metadata": {},
     "output_type": "execute_result"
    }
   ],
   "source": [
    "df_raw.describe()"
   ]
  },
  {
   "cell_type": "markdown",
   "metadata": {},
   "source": [
    "The raw data has been loaded in serial fashion. The first half consists of the images and the second half consists of the json documents."
   ]
  },
  {
   "cell_type": "code",
   "execution_count": 6,
   "metadata": {},
   "outputs": [
    {
     "data": {
      "text/html": [
       "<div>\n",
       "<style scoped>\n",
       "    .dataframe tbody tr th:only-of-type {\n",
       "        vertical-align: middle;\n",
       "    }\n",
       "\n",
       "    .dataframe tbody tr th {\n",
       "        vertical-align: top;\n",
       "    }\n",
       "\n",
       "    .dataframe thead th {\n",
       "        text-align: right;\n",
       "    }\n",
       "</style>\n",
       "<table border=\"1\" class=\"dataframe\">\n",
       "  <thead>\n",
       "    <tr style=\"text-align: right;\">\n",
       "      <th></th>\n",
       "      <th>Key</th>\n",
       "      <th>Size</th>\n",
       "    </tr>\n",
       "  </thead>\n",
       "  <tbody>\n",
       "    <tr>\n",
       "      <th>536430</th>\n",
       "      <td>bin-images/99996.jpg</td>\n",
       "      <td>58212</td>\n",
       "    </tr>\n",
       "    <tr>\n",
       "      <th>536431</th>\n",
       "      <td>bin-images/99997.jpg</td>\n",
       "      <td>39300</td>\n",
       "    </tr>\n",
       "    <tr>\n",
       "      <th>536432</th>\n",
       "      <td>bin-images/99998.jpg</td>\n",
       "      <td>36076</td>\n",
       "    </tr>\n",
       "    <tr>\n",
       "      <th>536433</th>\n",
       "      <td>bin-images/99999.jpg</td>\n",
       "      <td>35218</td>\n",
       "    </tr>\n",
       "    <tr>\n",
       "      <th>536434</th>\n",
       "      <td>metadata/00001.json</td>\n",
       "      <td>2472</td>\n",
       "    </tr>\n",
       "    <tr>\n",
       "      <th>536435</th>\n",
       "      <td>metadata/00002.json</td>\n",
       "      <td>2195</td>\n",
       "    </tr>\n",
       "    <tr>\n",
       "      <th>536436</th>\n",
       "      <td>metadata/00003.json</td>\n",
       "      <td>2195</td>\n",
       "    </tr>\n",
       "    <tr>\n",
       "      <th>536437</th>\n",
       "      <td>metadata/00004.json</td>\n",
       "      <td>2087</td>\n",
       "    </tr>\n",
       "    <tr>\n",
       "      <th>536438</th>\n",
       "      <td>metadata/00005.json</td>\n",
       "      <td>1390</td>\n",
       "    </tr>\n",
       "    <tr>\n",
       "      <th>536439</th>\n",
       "      <td>metadata/00006.json</td>\n",
       "      <td>1548</td>\n",
       "    </tr>\n",
       "  </tbody>\n",
       "</table>\n",
       "</div>"
      ],
      "text/plain": [
       "                         Key   Size\n",
       "536430  bin-images/99996.jpg  58212\n",
       "536431  bin-images/99997.jpg  39300\n",
       "536432  bin-images/99998.jpg  36076\n",
       "536433  bin-images/99999.jpg  35218\n",
       "536434   metadata/00001.json   2472\n",
       "536435   metadata/00002.json   2195\n",
       "536436   metadata/00003.json   2195\n",
       "536437   metadata/00004.json   2087\n",
       "536438   metadata/00005.json   1390\n",
       "536439   metadata/00006.json   1548"
      ]
     },
     "execution_count": 6,
     "metadata": {},
     "output_type": "execute_result"
    }
   ],
   "source": [
    "df_raw[536430:536440]"
   ]
  },
  {
   "cell_type": "markdown",
   "metadata": {},
   "source": [
    "### Pivot the Dataframe\n",
    "\n",
    "I wish to pivot the dataframe so that metadata files share the same index as the associated image. This will allow me to pull file names for the image and json doc using a common index and allow for shuffling or random selection of data.  \n",
    "\n",
    "First split the dataframes."
   ]
  },
  {
   "cell_type": "code",
   "execution_count": 7,
   "metadata": {},
   "outputs": [],
   "source": [
    "df_img = df_raw[:536434]\n",
    "df_meta = df_raw[536434:].reset_index()\n",
    "df_meta = df_meta.drop('index', axis=1)"
   ]
  },
  {
   "cell_type": "code",
   "execution_count": 8,
   "metadata": {},
   "outputs": [
    {
     "data": {
      "text/html": [
       "<div>\n",
       "<style scoped>\n",
       "    .dataframe tbody tr th:only-of-type {\n",
       "        vertical-align: middle;\n",
       "    }\n",
       "\n",
       "    .dataframe tbody tr th {\n",
       "        vertical-align: top;\n",
       "    }\n",
       "\n",
       "    .dataframe thead th {\n",
       "        text-align: right;\n",
       "    }\n",
       "</style>\n",
       "<table border=\"1\" class=\"dataframe\">\n",
       "  <thead>\n",
       "    <tr style=\"text-align: right;\">\n",
       "      <th></th>\n",
       "      <th>Key</th>\n",
       "      <th>Size</th>\n",
       "    </tr>\n",
       "  </thead>\n",
       "  <tbody>\n",
       "    <tr>\n",
       "      <th>536429</th>\n",
       "      <td>bin-images/99995.jpg</td>\n",
       "      <td>103665</td>\n",
       "    </tr>\n",
       "    <tr>\n",
       "      <th>536430</th>\n",
       "      <td>bin-images/99996.jpg</td>\n",
       "      <td>58212</td>\n",
       "    </tr>\n",
       "    <tr>\n",
       "      <th>536431</th>\n",
       "      <td>bin-images/99997.jpg</td>\n",
       "      <td>39300</td>\n",
       "    </tr>\n",
       "    <tr>\n",
       "      <th>536432</th>\n",
       "      <td>bin-images/99998.jpg</td>\n",
       "      <td>36076</td>\n",
       "    </tr>\n",
       "    <tr>\n",
       "      <th>536433</th>\n",
       "      <td>bin-images/99999.jpg</td>\n",
       "      <td>35218</td>\n",
       "    </tr>\n",
       "  </tbody>\n",
       "</table>\n",
       "</div>"
      ],
      "text/plain": [
       "                         Key    Size\n",
       "536429  bin-images/99995.jpg  103665\n",
       "536430  bin-images/99996.jpg   58212\n",
       "536431  bin-images/99997.jpg   39300\n",
       "536432  bin-images/99998.jpg   36076\n",
       "536433  bin-images/99999.jpg   35218"
      ]
     },
     "execution_count": 8,
     "metadata": {},
     "output_type": "execute_result"
    }
   ],
   "source": [
    "df_img.tail()"
   ]
  },
  {
   "cell_type": "code",
   "execution_count": 9,
   "metadata": {},
   "outputs": [
    {
     "data": {
      "text/html": [
       "<div>\n",
       "<style scoped>\n",
       "    .dataframe tbody tr th:only-of-type {\n",
       "        vertical-align: middle;\n",
       "    }\n",
       "\n",
       "    .dataframe tbody tr th {\n",
       "        vertical-align: top;\n",
       "    }\n",
       "\n",
       "    .dataframe thead th {\n",
       "        text-align: right;\n",
       "    }\n",
       "</style>\n",
       "<table border=\"1\" class=\"dataframe\">\n",
       "  <thead>\n",
       "    <tr style=\"text-align: right;\">\n",
       "      <th></th>\n",
       "      <th>Key</th>\n",
       "      <th>Size</th>\n",
       "    </tr>\n",
       "  </thead>\n",
       "  <tbody>\n",
       "    <tr>\n",
       "      <th>536429</th>\n",
       "      <td>metadata/99995.json</td>\n",
       "      <td>3740</td>\n",
       "    </tr>\n",
       "    <tr>\n",
       "      <th>536430</th>\n",
       "      <td>metadata/99996.json</td>\n",
       "      <td>864</td>\n",
       "    </tr>\n",
       "    <tr>\n",
       "      <th>536431</th>\n",
       "      <td>metadata/99997.json</td>\n",
       "      <td>2132</td>\n",
       "    </tr>\n",
       "    <tr>\n",
       "      <th>536432</th>\n",
       "      <td>metadata/99998.json</td>\n",
       "      <td>2770</td>\n",
       "    </tr>\n",
       "    <tr>\n",
       "      <th>536433</th>\n",
       "      <td>metadata/99999.json</td>\n",
       "      <td>1658</td>\n",
       "    </tr>\n",
       "  </tbody>\n",
       "</table>\n",
       "</div>"
      ],
      "text/plain": [
       "                        Key  Size\n",
       "536429  metadata/99995.json  3740\n",
       "536430  metadata/99996.json   864\n",
       "536431  metadata/99997.json  2132\n",
       "536432  metadata/99998.json  2770\n",
       "536433  metadata/99999.json  1658"
      ]
     },
     "execution_count": 9,
     "metadata": {},
     "output_type": "execute_result"
    }
   ],
   "source": [
    "df_meta.tail()"
   ]
  },
  {
   "cell_type": "markdown",
   "metadata": {},
   "source": [
    "Rename the columns"
   ]
  },
  {
   "cell_type": "code",
   "execution_count": 10,
   "metadata": {},
   "outputs": [],
   "source": [
    "df_img = df_img.rename(columns={'Key': 'img_file', 'Size': 'img_size'})\n",
    "df_meta = df_meta.rename(columns={'Key': 'meta_file', 'Size': 'meta_size'})"
   ]
  },
  {
   "cell_type": "code",
   "execution_count": 11,
   "metadata": {},
   "outputs": [
    {
     "data": {
      "text/html": [
       "<div>\n",
       "<style scoped>\n",
       "    .dataframe tbody tr th:only-of-type {\n",
       "        vertical-align: middle;\n",
       "    }\n",
       "\n",
       "    .dataframe tbody tr th {\n",
       "        vertical-align: top;\n",
       "    }\n",
       "\n",
       "    .dataframe thead th {\n",
       "        text-align: right;\n",
       "    }\n",
       "</style>\n",
       "<table border=\"1\" class=\"dataframe\">\n",
       "  <thead>\n",
       "    <tr style=\"text-align: right;\">\n",
       "      <th></th>\n",
       "      <th>img_file</th>\n",
       "      <th>img_size</th>\n",
       "    </tr>\n",
       "  </thead>\n",
       "  <tbody>\n",
       "    <tr>\n",
       "      <th>536429</th>\n",
       "      <td>bin-images/99995.jpg</td>\n",
       "      <td>103665</td>\n",
       "    </tr>\n",
       "    <tr>\n",
       "      <th>536430</th>\n",
       "      <td>bin-images/99996.jpg</td>\n",
       "      <td>58212</td>\n",
       "    </tr>\n",
       "    <tr>\n",
       "      <th>536431</th>\n",
       "      <td>bin-images/99997.jpg</td>\n",
       "      <td>39300</td>\n",
       "    </tr>\n",
       "    <tr>\n",
       "      <th>536432</th>\n",
       "      <td>bin-images/99998.jpg</td>\n",
       "      <td>36076</td>\n",
       "    </tr>\n",
       "    <tr>\n",
       "      <th>536433</th>\n",
       "      <td>bin-images/99999.jpg</td>\n",
       "      <td>35218</td>\n",
       "    </tr>\n",
       "  </tbody>\n",
       "</table>\n",
       "</div>"
      ],
      "text/plain": [
       "                    img_file  img_size\n",
       "536429  bin-images/99995.jpg    103665\n",
       "536430  bin-images/99996.jpg     58212\n",
       "536431  bin-images/99997.jpg     39300\n",
       "536432  bin-images/99998.jpg     36076\n",
       "536433  bin-images/99999.jpg     35218"
      ]
     },
     "execution_count": 11,
     "metadata": {},
     "output_type": "execute_result"
    }
   ],
   "source": [
    "df_img.tail()"
   ]
  },
  {
   "cell_type": "code",
   "execution_count": 12,
   "metadata": {},
   "outputs": [
    {
     "data": {
      "text/html": [
       "<div>\n",
       "<style scoped>\n",
       "    .dataframe tbody tr th:only-of-type {\n",
       "        vertical-align: middle;\n",
       "    }\n",
       "\n",
       "    .dataframe tbody tr th {\n",
       "        vertical-align: top;\n",
       "    }\n",
       "\n",
       "    .dataframe thead th {\n",
       "        text-align: right;\n",
       "    }\n",
       "</style>\n",
       "<table border=\"1\" class=\"dataframe\">\n",
       "  <thead>\n",
       "    <tr style=\"text-align: right;\">\n",
       "      <th></th>\n",
       "      <th>meta_file</th>\n",
       "      <th>meta_size</th>\n",
       "    </tr>\n",
       "  </thead>\n",
       "  <tbody>\n",
       "    <tr>\n",
       "      <th>0</th>\n",
       "      <td>metadata/00001.json</td>\n",
       "      <td>2472</td>\n",
       "    </tr>\n",
       "    <tr>\n",
       "      <th>1</th>\n",
       "      <td>metadata/00002.json</td>\n",
       "      <td>2195</td>\n",
       "    </tr>\n",
       "    <tr>\n",
       "      <th>2</th>\n",
       "      <td>metadata/00003.json</td>\n",
       "      <td>2195</td>\n",
       "    </tr>\n",
       "    <tr>\n",
       "      <th>3</th>\n",
       "      <td>metadata/00004.json</td>\n",
       "      <td>2087</td>\n",
       "    </tr>\n",
       "    <tr>\n",
       "      <th>4</th>\n",
       "      <td>metadata/00005.json</td>\n",
       "      <td>1390</td>\n",
       "    </tr>\n",
       "  </tbody>\n",
       "</table>\n",
       "</div>"
      ],
      "text/plain": [
       "             meta_file  meta_size\n",
       "0  metadata/00001.json       2472\n",
       "1  metadata/00002.json       2195\n",
       "2  metadata/00003.json       2195\n",
       "3  metadata/00004.json       2087\n",
       "4  metadata/00005.json       1390"
      ]
     },
     "execution_count": 12,
     "metadata": {},
     "output_type": "execute_result"
    }
   ],
   "source": [
    "df_meta.head()"
   ]
  },
  {
   "cell_type": "markdown",
   "metadata": {},
   "source": [
    "Finally, concatenate the split frames into a single dataframe."
   ]
  },
  {
   "cell_type": "code",
   "execution_count": 13,
   "metadata": {},
   "outputs": [],
   "source": [
    "df = pd.concat([df_img, df_meta], axis=1)"
   ]
  },
  {
   "cell_type": "code",
   "execution_count": 24,
   "metadata": {},
   "outputs": [
    {
     "data": {
      "text/html": [
       "<div>\n",
       "<style scoped>\n",
       "    .dataframe tbody tr th:only-of-type {\n",
       "        vertical-align: middle;\n",
       "    }\n",
       "\n",
       "    .dataframe tbody tr th {\n",
       "        vertical-align: top;\n",
       "    }\n",
       "\n",
       "    .dataframe thead th {\n",
       "        text-align: right;\n",
       "    }\n",
       "</style>\n",
       "<table border=\"1\" class=\"dataframe\">\n",
       "  <thead>\n",
       "    <tr style=\"text-align: right;\">\n",
       "      <th></th>\n",
       "      <th>img_file</th>\n",
       "      <th>img_size</th>\n",
       "      <th>meta_file</th>\n",
       "      <th>meta_size</th>\n",
       "    </tr>\n",
       "  </thead>\n",
       "  <tbody>\n",
       "    <tr>\n",
       "      <th>333500</th>\n",
       "      <td>bin-images/393611.jpg</td>\n",
       "      <td>27723</td>\n",
       "      <td>metadata/393611.json</td>\n",
       "      <td>1654</td>\n",
       "    </tr>\n",
       "    <tr>\n",
       "      <th>333501</th>\n",
       "      <td>bin-images/393612.jpg</td>\n",
       "      <td>29842</td>\n",
       "      <td>metadata/393612.json</td>\n",
       "      <td>2396</td>\n",
       "    </tr>\n",
       "    <tr>\n",
       "      <th>333502</th>\n",
       "      <td>bin-images/393613.jpg</td>\n",
       "      <td>33408</td>\n",
       "      <td>metadata/393613.json</td>\n",
       "      <td>3382</td>\n",
       "    </tr>\n",
       "    <tr>\n",
       "      <th>333503</th>\n",
       "      <td>bin-images/393614.jpg</td>\n",
       "      <td>60090</td>\n",
       "      <td>metadata/393614.json</td>\n",
       "      <td>2836</td>\n",
       "    </tr>\n",
       "    <tr>\n",
       "      <th>333504</th>\n",
       "      <td>bin-images/393615.jpg</td>\n",
       "      <td>34904</td>\n",
       "      <td>metadata/393615.json</td>\n",
       "      <td>2246</td>\n",
       "    </tr>\n",
       "    <tr>\n",
       "      <th>333505</th>\n",
       "      <td>bin-images/393616.jpg</td>\n",
       "      <td>33808</td>\n",
       "      <td>metadata/393616.json</td>\n",
       "      <td>2961</td>\n",
       "    </tr>\n",
       "    <tr>\n",
       "      <th>333506</th>\n",
       "      <td>bin-images/393617.jpg</td>\n",
       "      <td>41628</td>\n",
       "      <td>metadata/393617.json</td>\n",
       "      <td>2777</td>\n",
       "    </tr>\n",
       "    <tr>\n",
       "      <th>333507</th>\n",
       "      <td>bin-images/393618.jpg</td>\n",
       "      <td>43914</td>\n",
       "      <td>metadata/393618.json</td>\n",
       "      <td>2777</td>\n",
       "    </tr>\n",
       "    <tr>\n",
       "      <th>333508</th>\n",
       "      <td>bin-images/393619.jpg</td>\n",
       "      <td>43346</td>\n",
       "      <td>metadata/393619.json</td>\n",
       "      <td>2715</td>\n",
       "    </tr>\n",
       "    <tr>\n",
       "      <th>333509</th>\n",
       "      <td>bin-images/39362.jpg</td>\n",
       "      <td>49569</td>\n",
       "      <td>metadata/39362.json</td>\n",
       "      <td>56</td>\n",
       "    </tr>\n",
       "    <tr>\n",
       "      <th>333510</th>\n",
       "      <td>bin-images/393620.jpg</td>\n",
       "      <td>38907</td>\n",
       "      <td>metadata/393620.json</td>\n",
       "      <td>3425</td>\n",
       "    </tr>\n",
       "    <tr>\n",
       "      <th>333511</th>\n",
       "      <td>bin-images/393621.jpg</td>\n",
       "      <td>64288</td>\n",
       "      <td>metadata/393621.json</td>\n",
       "      <td>2801</td>\n",
       "    </tr>\n",
       "    <tr>\n",
       "      <th>333512</th>\n",
       "      <td>bin-images/393622.jpg</td>\n",
       "      <td>59948</td>\n",
       "      <td>metadata/393622.json</td>\n",
       "      <td>2116</td>\n",
       "    </tr>\n",
       "    <tr>\n",
       "      <th>333513</th>\n",
       "      <td>bin-images/393623.jpg</td>\n",
       "      <td>66444</td>\n",
       "      <td>metadata/393623.json</td>\n",
       "      <td>2464</td>\n",
       "    </tr>\n",
       "    <tr>\n",
       "      <th>333514</th>\n",
       "      <td>bin-images/393624.jpg</td>\n",
       "      <td>83061</td>\n",
       "      <td>metadata/393624.json</td>\n",
       "      <td>3207</td>\n",
       "    </tr>\n",
       "    <tr>\n",
       "      <th>333515</th>\n",
       "      <td>bin-images/393625.jpg</td>\n",
       "      <td>96926</td>\n",
       "      <td>metadata/393625.json</td>\n",
       "      <td>1618</td>\n",
       "    </tr>\n",
       "    <tr>\n",
       "      <th>333516</th>\n",
       "      <td>bin-images/393626.jpg</td>\n",
       "      <td>82802</td>\n",
       "      <td>metadata/393626.json</td>\n",
       "      <td>2419</td>\n",
       "    </tr>\n",
       "    <tr>\n",
       "      <th>333517</th>\n",
       "      <td>bin-images/393627.jpg</td>\n",
       "      <td>32941</td>\n",
       "      <td>metadata/393627.json</td>\n",
       "      <td>2341</td>\n",
       "    </tr>\n",
       "    <tr>\n",
       "      <th>333518</th>\n",
       "      <td>bin-images/393628.jpg</td>\n",
       "      <td>32228</td>\n",
       "      <td>metadata/393628.json</td>\n",
       "      <td>1588</td>\n",
       "    </tr>\n",
       "    <tr>\n",
       "      <th>333519</th>\n",
       "      <td>bin-images/393629.jpg</td>\n",
       "      <td>24880</td>\n",
       "      <td>metadata/393629.json</td>\n",
       "      <td>2785</td>\n",
       "    </tr>\n",
       "  </tbody>\n",
       "</table>\n",
       "</div>"
      ],
      "text/plain": [
       "                     img_file  img_size             meta_file  meta_size\n",
       "333500  bin-images/393611.jpg     27723  metadata/393611.json       1654\n",
       "333501  bin-images/393612.jpg     29842  metadata/393612.json       2396\n",
       "333502  bin-images/393613.jpg     33408  metadata/393613.json       3382\n",
       "333503  bin-images/393614.jpg     60090  metadata/393614.json       2836\n",
       "333504  bin-images/393615.jpg     34904  metadata/393615.json       2246\n",
       "333505  bin-images/393616.jpg     33808  metadata/393616.json       2961\n",
       "333506  bin-images/393617.jpg     41628  metadata/393617.json       2777\n",
       "333507  bin-images/393618.jpg     43914  metadata/393618.json       2777\n",
       "333508  bin-images/393619.jpg     43346  metadata/393619.json       2715\n",
       "333509   bin-images/39362.jpg     49569   metadata/39362.json         56\n",
       "333510  bin-images/393620.jpg     38907  metadata/393620.json       3425\n",
       "333511  bin-images/393621.jpg     64288  metadata/393621.json       2801\n",
       "333512  bin-images/393622.jpg     59948  metadata/393622.json       2116\n",
       "333513  bin-images/393623.jpg     66444  metadata/393623.json       2464\n",
       "333514  bin-images/393624.jpg     83061  metadata/393624.json       3207\n",
       "333515  bin-images/393625.jpg     96926  metadata/393625.json       1618\n",
       "333516  bin-images/393626.jpg     82802  metadata/393626.json       2419\n",
       "333517  bin-images/393627.jpg     32941  metadata/393627.json       2341\n",
       "333518  bin-images/393628.jpg     32228  metadata/393628.json       1588\n",
       "333519  bin-images/393629.jpg     24880  metadata/393629.json       2785"
      ]
     },
     "execution_count": 24,
     "metadata": {},
     "output_type": "execute_result"
    }
   ],
   "source": [
    "df[333500:333520]"
   ]
  },
  {
   "cell_type": "markdown",
   "metadata": {},
   "source": [
    "Some more stats on images and metadata.  \n",
    "\n",
    "Shall I pickle the resulting dataframe?"
   ]
  },
  {
   "cell_type": "code",
   "execution_count": 25,
   "metadata": {},
   "outputs": [
    {
     "data": {
      "text/plain": [
       "(30466377489, 56794.270104057534)"
      ]
     },
     "execution_count": 25,
     "metadata": {},
     "output_type": "execute_result"
    }
   ],
   "source": [
    "df.img_size.sum(), df.img_size.mean()"
   ]
  },
  {
   "cell_type": "code",
   "execution_count": 26,
   "metadata": {},
   "outputs": [
    {
     "data": {
      "text/plain": [
       "(1098414519, 2047.6228557473985)"
      ]
     },
     "execution_count": 26,
     "metadata": {},
     "output_type": "execute_result"
    }
   ],
   "source": [
    "df.meta_size.sum(), df.meta_size.mean()"
   ]
  },
  {
   "cell_type": "code",
   "execution_count": null,
   "metadata": {},
   "outputs": [],
   "source": []
  },
  {
   "cell_type": "code",
   "execution_count": null,
   "metadata": {},
   "outputs": [],
   "source": []
  }
 ],
 "metadata": {
  "kernelspec": {
   "display_name": "Python 3",
   "language": "python",
   "name": "python3"
  },
  "language_info": {
   "codemirror_mode": {
    "name": "ipython",
    "version": 3
   },
   "file_extension": ".py",
   "mimetype": "text/x-python",
   "name": "python",
   "nbconvert_exporter": "python",
   "pygments_lexer": "ipython3",
   "version": "3.6.3"
  }
 },
 "nbformat": 4,
 "nbformat_minor": 2
}
